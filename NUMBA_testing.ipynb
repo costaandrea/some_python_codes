{
 "cells": [
  {
   "cell_type": "markdown",
   "metadata": {},
   "source": [
    "# NUMBA experiements"
   ]
  },
  {
   "cell_type": "markdown",
   "metadata": {},
   "source": [
    "Create a function that can be easily adapted to calculate the heat transport from MITgmc"
   ]
  },
  {
   "cell_type": "code",
   "execution_count": null,
   "metadata": {},
   "outputs": [],
   "source": [
    "from netCDF4 import Dataset\n",
    "import os\n",
    "\n",
    "#use OFES to play around\n",
    "url = 'http://apdrc.soest.hawaii.edu:80/dods/public_ofes/OfES/ncep_0.1_global_mmean/uvel'\n",
    "dataset = Dataset(url, mode = 'r')"
   ]
  },
  {
   "cell_type": "code",
   "execution_count": null,
   "metadata": {},
   "outputs": [],
   "source": [
    "def transport(dataset, year, yy):\n",
    "    #Inputs: dataset, year and latitude\n",
    "    \n",
    "    from netCDF4 import Dataset\n",
    "    \n",
    "    print(year)\n",
    "    uvel = dataset.variables['uvel'][year, :, yy-2:yy+2, :]\n",
    "    uvel[uvel == -9999] = 0\n",
    "    \n",
    "    u_cum = 0\n",
    "    for i in range(uvel.shape[3]): #lon\n",
    "        for j in range(uvel.shape[1]): #lat\n",
    "            for n in range(uvel.shape[2]): #depth\n",
    "                u_cum = u_cum + uvel[n,j,i]#later, here multiply by temperature a thermal coeff\n",
    "                \n",
    "    u_cum.tofile(year+'.bin') #for testing\n",
    "    \n",
    "    return u_cum"
   ]
  },
  {
   "cell_type": "code",
   "execution_count": null,
   "metadata": {},
   "outputs": [],
   "source": [
    "%%time\n",
    "transport(dataset, 2000, 10)"
   ]
  },
  {
   "cell_type": "markdown",
   "metadata": {},
   "source": [
    "## Try NUMBA"
   ]
  },
  {
   "cell_type": "code",
   "execution_count": null,
   "metadata": {},
   "outputs": [],
   "source": [
    "from numba import jit"
   ]
  },
  {
   "cell_type": "code",
   "execution_count": null,
   "metadata": {},
   "outputs": [],
   "source": [
    "@jit(nopython=True)\n",
    "def calc_cum(a):\n",
    "    u_cum = 0\n",
    "    for i in range(uvel.shape[3]): #lon\n",
    "        for j in range(uvel.shape[1]): #lat\n",
    "            for n in range(uvel.shape[2]): #depth\n",
    "                u_cum = u_cum + uvel[n,j,i]#later, here multiply by temperature a thermal coeff\n",
    "    return u_cum\n",
    "\n",
    "def transport_numba(dataset, year, yy):\n",
    "    #Inputs: dataset, year and latitude\n",
    "    \n",
    "    from netCDF4 import Dataset\n",
    "    \n",
    "    print(year)\n",
    "    uvel = dataset.variables['uvel'][year, :, yy-2:yy+2, :]\n",
    "    uvel[uvel == -9999] = 0\n",
    "    \n",
    "    u_cum = calc_cum(a)\n",
    "    \n",
    "    f = np.array(u_cum)\n",
    "    f.tofile(year+'.bin')\n",
    "    \n",
    "    return f"
   ]
  },
  {
   "cell_type": "code",
   "execution_count": null,
   "metadata": {},
   "outputs": [],
   "source": [
    "%%time\n",
    "transport_numba(dataset, 2000, 10)"
   ]
  },
  {
   "cell_type": "markdown",
   "metadata": {},
   "source": [
    "This was using only one processor.\n",
    "\n",
    "Let's try now with two!\n",
    "\n",
    "**NOTA BENE** multuprocessing is incompatible with jupyter atm"
   ]
  },
  {
   "cell_type": "code",
   "execution_count": null,
   "metadata": {},
   "outputs": [],
   "source": [
    "import multiprocessing\n",
    "\n",
    "%%time\n",
    "pool = multiprocessing.Pool(processes=2)\n",
    "r = pool.map(transport_numba, dataset, 2000, 10)\n",
    "pool.close()"
   ]
  },
  {
   "cell_type": "markdown",
   "metadata": {},
   "source": [
    "On my laptop, this runs a bit more than 2 times faster."
   ]
  },
  {
   "cell_type": "markdown",
   "metadata": {},
   "source": [
    "**NOTA BENE** Specifying the output type speeds up the code a tiny bit more."
   ]
  },
  {
   "cell_type": "code",
   "execution_count": null,
   "metadata": {},
   "outputs": [],
   "source": [
    "@jit(nopython=True,'f8(f4[:,:,:])')"
   ]
  }
 ],
 "metadata": {
  "kernelspec": {
   "display_name": "Python 3",
   "language": "python",
   "name": "python3"
  },
  "language_info": {
   "codemirror_mode": {
    "name": "ipython",
    "version": 3
   },
   "file_extension": ".py",
   "mimetype": "text/x-python",
   "name": "python",
   "nbconvert_exporter": "python",
   "pygments_lexer": "ipython3",
   "version": "3.6.3"
  }
 },
 "nbformat": 4,
 "nbformat_minor": 2
}
